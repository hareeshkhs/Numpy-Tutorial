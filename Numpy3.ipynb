{
  "nbformat": 4,
  "nbformat_minor": 0,
  "metadata": {
    "colab": {
      "name": "Numpy3.ipynb",
      "provenance": [],
      "authorship_tag": "ABX9TyMudqQHbeksURNcxyEUyxYW",
      "include_colab_link": true
    },
    "kernelspec": {
      "name": "python3",
      "display_name": "Python 3"
    },
    "language_info": {
      "name": "python"
    }
  },
  "cells": [
    {
      "cell_type": "markdown",
      "metadata": {
        "id": "view-in-github",
        "colab_type": "text"
      },
      "source": [
        "<a href=\"https://colab.research.google.com/github/hareeshkhs/Numpy-Tutorial/blob/main/Numpy3.ipynb\" target=\"_parent\"><img src=\"https://colab.research.google.com/assets/colab-badge.svg\" alt=\"Open In Colab\"/></a>"
      ]
    },
    {
      "cell_type": "markdown",
      "metadata": {
        "id": "KZLzu95HtL-u"
      },
      "source": [
        "Welcome to numpy part 3\n",
        "\n",
        "# Iterate numpy array using nditer, NumPy Sorting and Searching, Numpy statistical functions\n",
        "\n",
        "Importing numpy Module as np"
      ]
    },
    {
      "cell_type": "code",
      "metadata": {
        "id": "RxIL7JsGskN6"
      },
      "source": [
        "import numpy as np"
      ],
      "execution_count": 1,
      "outputs": []
    },
    {
      "cell_type": "code",
      "metadata": {
        "colab": {
          "base_uri": "https://localhost:8080/"
        },
        "id": "FjcQ_sy9tjcK",
        "outputId": "b588079e-78ca-455a-947f-7a9c741f95fd"
      },
      "source": [
        "arr1=np.arange(12).reshape(3,4)\n",
        "print(arr1)"
      ],
      "execution_count": 2,
      "outputs": [
        {
          "output_type": "stream",
          "text": [
            "[[ 0  1  2  3]\n",
            " [ 4  5  6  7]\n",
            " [ 8  9 10 11]]\n"
          ],
          "name": "stdout"
        }
      ]
    },
    {
      "cell_type": "code",
      "metadata": {
        "colab": {
          "base_uri": "https://localhost:8080/"
        },
        "id": "7hfvXAaptwo_",
        "outputId": "998a4564-34f7-4b26-cebb-173e30e864aa"
      },
      "source": [
        "for row in arr1:\n",
        "  print(row)"
      ],
      "execution_count": 3,
      "outputs": [
        {
          "output_type": "stream",
          "text": [
            "[0 1 2 3]\n",
            "[4 5 6 7]\n",
            "[ 8  9 10 11]\n"
          ],
          "name": "stdout"
        }
      ]
    },
    {
      "cell_type": "code",
      "metadata": {
        "colab": {
          "base_uri": "https://localhost:8080/"
        },
        "id": "G9MqI-upt3Gg",
        "outputId": "1857395b-87f4-4bbc-db65-12391f094711"
      },
      "source": [
        "for a in arr1.flatten():\n",
        "  print(a)"
      ],
      "execution_count": 4,
      "outputs": [
        {
          "output_type": "stream",
          "text": [
            "0\n",
            "1\n",
            "2\n",
            "3\n",
            "4\n",
            "5\n",
            "6\n",
            "7\n",
            "8\n",
            "9\n",
            "10\n",
            "11\n"
          ],
          "name": "stdout"
        }
      ]
    },
    {
      "cell_type": "markdown",
      "metadata": {
        "id": "CoJdsailuQlR"
      },
      "source": [
        "**NumPy Array Iteration**\n",
        "\n",
        "NumPy provides an iterator object, i.e., nditer which can be used to iterate over the given array using python standard Iterator interface."
      ]
    },
    {
      "cell_type": "code",
      "metadata": {
        "colab": {
          "base_uri": "https://localhost:8080/"
        },
        "id": "KrJfXfu6uB0_",
        "outputId": "e42b0ef4-dfd7-4e07-a6ab-849274c8151e"
      },
      "source": [
        "print(\"Iterating over the array:\")  \n",
        "for x in np.nditer(arr1):  \n",
        "    print(x,end=' ')"
      ],
      "execution_count": 5,
      "outputs": [
        {
          "output_type": "stream",
          "text": [
            "Iterating over the array:\n",
            "0 1 2 3 4 5 6 7 8 9 10 11 "
          ],
          "name": "stdout"
        }
      ]
    },
    {
      "cell_type": "markdown",
      "metadata": {
        "id": "-dwfM_rtumbl"
      },
      "source": [
        "**Order of Iteration**\n",
        "\n",
        "As we know, there are two ways of storing values into the numpy arrays:\n",
        "1.   F-style order\n",
        "2.   C-style order\n",
        "\n",
        "Let's see an example of how the numpy Iterator treats the specific orders (F or C)."
      ]
    },
    {
      "cell_type": "code",
      "metadata": {
        "colab": {
          "base_uri": "https://localhost:8080/"
        },
        "id": "AOnoafsDucO1",
        "outputId": "e88208a4-7f11-46a2-8bec-6163f411da4e"
      },
      "source": [
        "for i in np.nditer(arr1, order='C'):  \n",
        "    print(i,end=' ')"
      ],
      "execution_count": 9,
      "outputs": [
        {
          "output_type": "stream",
          "text": [
            "0 1 2 3 4 5 6 7 8 9 10 11 "
          ],
          "name": "stdout"
        }
      ]
    },
    {
      "cell_type": "code",
      "metadata": {
        "colab": {
          "base_uri": "https://localhost:8080/"
        },
        "id": "40hZbcQyvU_9",
        "outputId": "260c02bd-6455-4c0f-9603-d5497f6ceca0"
      },
      "source": [
        "for i in np.nditer(arr1, order='F'):  \n",
        "    print(i,end=' ')"
      ],
      "execution_count": 10,
      "outputs": [
        {
          "output_type": "stream",
          "text": [
            "0 4 8 1 5 9 2 6 10 3 7 11 "
          ],
          "name": "stdout"
        }
      ]
    },
    {
      "cell_type": "code",
      "metadata": {
        "colab": {
          "base_uri": "https://localhost:8080/"
        },
        "id": "3Kkdlk0avdrQ",
        "outputId": "c9813607-cb7f-4e80-cb12-776f3f1b58ea"
      },
      "source": [
        "for i in np.nditer(arr1, order='F', flags=['external_loop']):  \n",
        "    print(i)"
      ],
      "execution_count": 13,
      "outputs": [
        {
          "output_type": "stream",
          "text": [
            "[0 4 8]\n",
            "[1 5 9]\n",
            "[ 2  6 10]\n",
            "[ 3  7 11]\n"
          ],
          "name": "stdout"
        }
      ]
    },
    {
      "cell_type": "markdown",
      "metadata": {
        "id": "7Y2nSWVowUFI"
      },
      "source": [
        "**Array Values Modification**\n",
        "\n",
        "We can not modify the array elements during the iteration since the op-flag associated with the Iterator object is set to readonly.\n",
        "\n",
        "However, we can set this flag to readwrite or write only to modify the array values. Consider the following example."
      ]
    },
    {
      "cell_type": "code",
      "metadata": {
        "colab": {
          "base_uri": "https://localhost:8080/"
        },
        "id": "L0RBL5rBv33t",
        "outputId": "a044b6af-0881-4542-a700-1400a01dae13"
      },
      "source": [
        "print(\"\\nIterating over the modified array\\n\")  \n",
        "  \n",
        "for x in np.nditer(arr1, op_flags = ['readwrite']):  \n",
        "    x[...] = 3 * x;  \n",
        "    print(x,end = ' ')  "
      ],
      "execution_count": 14,
      "outputs": [
        {
          "output_type": "stream",
          "text": [
            "\n",
            "Iterating over the modified array\n",
            "\n",
            "0 3 6 9 12 15 18 21 24 27 30 33 "
          ],
          "name": "stdout"
        }
      ]
    },
    {
      "cell_type": "markdown",
      "metadata": {
        "id": "GiZJuKq3xeYI"
      },
      "source": [
        "**numPy Sorting and Searching**\n",
        "\n",
        "Numpy provides a variety of functions for sorting and searching. There are various sorting algorithms like quicksort, merge sort and heapsort which is implemented using the numpy.sort() function.\n",
        "\n",
        "The kind of the sorting algorithm to be used in the sort operation must be mentioned in the function call.\n",
        "\n",
        "Let's discuss the sorting algorithm which is implemented in numpy.sort()\n",
        "\n",
        "The syntax to use the numpy.sort() function is given below.\n",
        "\n",
        "`numpy.sort(a, axis, kind, order) ` \n",
        "\n",
        "It accepts the following parameters.\n",
        "\n",
        "![numpy-sort.png](data:image/png;base64,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)"
      ]
    },
    {
      "cell_type": "code",
      "metadata": {
        "colab": {
          "base_uri": "https://localhost:8080/"
        },
        "id": "qfARHF_HwR4m",
        "outputId": "90666829-e8ed-4acf-f4ab-3b8b43159e27"
      },
      "source": [
        "arr2 = np.array([[10,2,3],[4,5,6],[7,8,9]])  \n",
        "  \n",
        "print(\"Sorting along the columns:\")  \n",
        "print(np.sort(arr2))  \n",
        "  \n",
        "print(\"Sorting along the rows:\")  \n",
        "print(np.sort(arr2, 0))  \n",
        "  \n",
        "data_type = np.dtype([('name', 'S10'),('marks',int)])  \n",
        "  \n",
        "arr3 = np.array([('Hareesh',200),('Kishore',251)],dtype = data_type)  \n",
        "  \n",
        "print(\"Sorting data ordered by name\")  \n",
        "  \n",
        "print(np.sort(arr3,order = 'name'))"
      ],
      "execution_count": 16,
      "outputs": [
        {
          "output_type": "stream",
          "text": [
            "Sorting along the columns:\n",
            "[[ 2  3 10]\n",
            " [ 4  5  6]\n",
            " [ 7  8  9]]\n",
            "Sorting along the rows:\n",
            "[[ 4  2  3]\n",
            " [ 7  5  6]\n",
            " [10  8  9]]\n",
            "Sorting data ordered by name\n",
            "[(b'Hareesh', 200) (b'Kishore', 251)]\n"
          ],
          "name": "stdout"
        }
      ]
    },
    {
      "cell_type": "markdown",
      "metadata": {
        "id": "MoGWuyeHzIvo"
      },
      "source": [
        "**numpy.where() function**\n",
        "\n",
        "This function is used to return the indices of all the elements which satisfies a particular condition."
      ]
    },
    {
      "cell_type": "code",
      "metadata": {
        "colab": {
          "base_uri": "https://localhost:8080/"
        },
        "id": "5a8jzIIoyg5q",
        "outputId": "c8d39f96-7fb8-4e71-949d-b73cb94a38d0"
      },
      "source": [
        "arr4 = np.array([12, 90, 380, 12, 211])  \n",
        "  \n",
        "print(np.where(arr4>12))  \n",
        "  \n",
        "arr5= np.array([[20, 24],[21, 23]])  \n",
        "  \n",
        "print(np.where(arr5>20))"
      ],
      "execution_count": 17,
      "outputs": [
        {
          "output_type": "stream",
          "text": [
            "(array([1, 2, 4]),)\n",
            "(array([0, 1, 1]), array([1, 0, 1]))\n"
          ],
          "name": "stdout"
        }
      ]
    },
    {
      "cell_type": "markdown",
      "metadata": {
        "id": "gYOX7W_pza2c"
      },
      "source": [
        "**Numpy statistical functions**\n",
        "\n",
        "**Calculating median, mean, and average of array items**\n",
        "\n",
        "*The numpy.median() function:*\n",
        "\n",
        "Median is defined as the value that is used to separate the higher range of data sample with a lower range of data sample. The function numpy.median() is used to calculate the median of the multi-dimensional or one-dimensional arrays.\n",
        "\n",
        "*The numpy.mean() function:*\n",
        "\n",
        "The mean can be calculated by adding all the items of the arrays dividing by the number of array elements. We can also mention the axis along which the mean can be calculated.\n",
        "\n",
        "*The numpy.average() function:*\n",
        "\n",
        "The numpy.average() function is used to find the weighted average along the axis of the multi-dimensional arrays where their weights are given in another array."
      ]
    },
    {
      "cell_type": "code",
      "metadata": {
        "colab": {
          "base_uri": "https://localhost:8080/"
        },
        "id": "qe4IzdKtzYsG",
        "outputId": "9f557f32-26bf-46e2-d114-a64a31b03762"
      },
      "source": [
        "arr6 = np.array([[1,2,3],[4,5,6],[7,8,9]])  \n",
        "  \n",
        "print(\"Array:\\n\",arr6)  \n",
        "  \n",
        "print(\"\\nMedian of array along axis 0:\",np.median(arr6,0))  \n",
        "print(\"Mean of array along axis 0:\",np.mean(arr6,0))  \n",
        "print(\"Average of array along axis 1:\",np.average(arr6,1))"
      ],
      "execution_count": 18,
      "outputs": [
        {
          "output_type": "stream",
          "text": [
            "Array:\n",
            " [[1 2 3]\n",
            " [4 5 6]\n",
            " [7 8 9]]\n",
            "\n",
            "Median of array along axis 0: [4. 5. 6.]\n",
            "Mean of array along axis 0: [4. 5. 6.]\n",
            "Average of array along axis 1: [2. 5. 8.]\n"
          ],
          "name": "stdout"
        }
      ]
    }
  ]
}