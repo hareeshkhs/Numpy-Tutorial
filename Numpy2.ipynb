{
  "nbformat": 4,
  "nbformat_minor": 0,
  "metadata": {
    "colab": {
      "name": "Numpy2.ipynb",
      "provenance": [],
      "collapsed_sections": [],
      "authorship_tag": "ABX9TyND/lvAmEspnkWTxbSYRPDf",
      "include_colab_link": true
    },
    "kernelspec": {
      "name": "python3",
      "display_name": "Python 3"
    },
    "language_info": {
      "name": "python"
    }
  },
  "cells": [
    {
      "cell_type": "markdown",
      "metadata": {
        "id": "view-in-github",
        "colab_type": "text"
      },
      "source": [
        "<a href=\"https://colab.research.google.com/github/hareeshkhs/Numpy-Tutorial/blob/main/Numpy2.ipynb\" target=\"_parent\"><img src=\"https://colab.research.google.com/assets/colab-badge.svg\" alt=\"Open In Colab\"/></a>"
      ]
    },
    {
      "cell_type": "markdown",
      "metadata": {
        "id": "_O4q84Tqit__"
      },
      "source": [
        "Welcome to numpy part 2\n",
        "# slicing/stacking arrays, indexing with boolean arrays\n",
        "\n",
        "Importing numpy Module as np"
      ]
    },
    {
      "cell_type": "code",
      "metadata": {
        "id": "YDkZsl52-LA6"
      },
      "source": [
        "import numpy as np"
      ],
      "execution_count": 9,
      "outputs": []
    },
    {
      "cell_type": "code",
      "metadata": {
        "colab": {
          "base_uri": "https://localhost:8080/"
        },
        "id": "d8tCYCZAjcR6",
        "outputId": "8294258a-359b-45db-cca9-eebc9b105bd5"
      },
      "source": [
        "#To create an numpy array using list\n",
        "arr1=np.array([1, 2, 3])\n",
        "print(arr1)\n",
        "#To create a multi-dimensional array\n",
        "arr2=np.array([[1,2],[3,4],[5,6]])\n",
        "print(arr2)\n",
        "# 3X3 multi-dimensional array\n",
        "arr3=np.array([[1,2,3],[4,5,6],[7,8,9]])\n",
        "print(arr3)"
      ],
      "execution_count": 10,
      "outputs": [
        {
          "output_type": "stream",
          "text": [
            "[1 2 3]\n",
            "[[1 2]\n",
            " [3 4]\n",
            " [5 6]]\n",
            "[[1 2 3]\n",
            " [4 5 6]\n",
            " [7 8 9]]\n"
          ],
          "name": "stdout"
        }
      ]
    },
    {
      "cell_type": "markdown",
      "metadata": {
        "id": "h3Udo6mqkcQ2"
      },
      "source": [
        "**Slicing in the Array**\n",
        "\n",
        "Slicing in the NumPy array is the way to extract a range of elements from an array. Slicing in the array is performed in the same way as it is performed in the python list.\n",
        "\n",
        "Consider the following examples"
      ]
    },
    {
      "cell_type": "code",
      "metadata": {
        "colab": {
          "base_uri": "https://localhost:8080/"
        },
        "id": "tFHxZ54wkS5d",
        "outputId": "2e28171d-b133-4b70-e684-f43ca5003b16"
      },
      "source": [
        "print(arr1[0:2])\n",
        "print(arr1[-1])\n",
        "print(arr2[0,1])\n",
        "print(arr2[2,0])\n",
        "#printing element from 2nd row 3rd col\n",
        "print(arr3[1,2])\n",
        "print(arr3[0:2,2])\n",
        "print(arr3[-1])"
      ],
      "execution_count": 11,
      "outputs": [
        {
          "output_type": "stream",
          "text": [
            "[1 2]\n",
            "3\n",
            "2\n",
            "5\n",
            "6\n",
            "[3 6]\n",
            "[7 8 9]\n"
          ],
          "name": "stdout"
        }
      ]
    },
    {
      "cell_type": "markdown",
      "metadata": {
        "id": "906bsL_4mr9U"
      },
      "source": [
        "**NumPy Array Iteration**\n",
        "\n",
        "NumPy provides an iterator object, i.e., nditer which can be used to iterate over the given array using python standard Iterator interface.\n",
        "\n",
        "Consider the following examples."
      ]
    },
    {
      "cell_type": "code",
      "metadata": {
        "colab": {
          "base_uri": "https://localhost:8080/"
        },
        "id": "-TCIJTsBlMpW",
        "outputId": "d6d3b034-02df-4233-d5d2-4a764201e86d"
      },
      "source": [
        "for row in arr3:\n",
        "  print(row)\n",
        "print(\"*************\")\n",
        "for a in arr3.flat:\n",
        "  print(a)"
      ],
      "execution_count": 14,
      "outputs": [
        {
          "output_type": "stream",
          "text": [
            "[1 2 3]\n",
            "[4 5 6]\n",
            "[7 8 9]\n",
            "1\n",
            "2\n",
            "3\n",
            "4\n",
            "5\n",
            "6\n",
            "7\n",
            "8\n",
            "9\n"
          ],
          "name": "stdout"
        }
      ]
    },
    {
      "cell_type": "code",
      "metadata": {
        "colab": {
          "base_uri": "https://localhost:8080/"
        },
        "id": "ivdNeuZknJCy",
        "outputId": "04eecbaf-da45-4f84-e900-8ee35cb17d55"
      },
      "source": [
        "a1=np.arange(6).reshape(3,2)\n",
        "a2=np.arange(6,12).reshape(3,2)\n",
        "print(a1)\n",
        "print(a2)"
      ],
      "execution_count": 15,
      "outputs": [
        {
          "output_type": "stream",
          "text": [
            "[[0 1]\n",
            " [2 3]\n",
            " [4 5]]\n",
            "[[ 6  7]\n",
            " [ 8  9]\n",
            " [10 11]]\n"
          ],
          "name": "stdout"
        }
      ]
    },
    {
      "cell_type": "markdown",
      "metadata": {
        "id": "no3033lwoU58"
      },
      "source": [
        "**Array Concatenation**\n",
        "\n",
        "The numpy provides us with the vertical stacking and horizontal stacking which allows us to concatenate two multi-dimensional arrays vertically or horizontally.\n",
        "\n",
        "Consider the following example."
      ]
    },
    {
      "cell_type": "code",
      "metadata": {
        "colab": {
          "base_uri": "https://localhost:8080/"
        },
        "id": "xN_8ecxwoGEQ",
        "outputId": "92423260-8b1b-4d6a-e8df-b1ba5d9b6e07"
      },
      "source": [
        "print(\"Arrays vertically concatenated\\n\",np.vstack((a1,a2))) \n",
        "print(\"Arrays horizontally concatenated\\n\",np.hstack((a1,a2)))"
      ],
      "execution_count": 18,
      "outputs": [
        {
          "output_type": "stream",
          "text": [
            "Arrays vertically concatenated\n",
            " [[ 0  1]\n",
            " [ 2  3]\n",
            " [ 4  5]\n",
            " [ 6  7]\n",
            " [ 8  9]\n",
            " [10 11]]\n",
            "Arrays horizontally concatenated\n",
            " [[ 0  1  6  7]\n",
            " [ 2  3  8  9]\n",
            " [ 4  5 10 11]]\n"
          ],
          "name": "stdout"
        }
      ]
    },
    {
      "cell_type": "code",
      "metadata": {
        "colab": {
          "base_uri": "https://localhost:8080/"
        },
        "id": "U1swwakjokV6",
        "outputId": "6a908a2a-9a3b-4f64-9891-18faba328e82"
      },
      "source": [
        "a3=np.arange(30).reshape(2,15)\n",
        "print(a3)"
      ],
      "execution_count": 19,
      "outputs": [
        {
          "output_type": "stream",
          "text": [
            "[[ 0  1  2  3  4  5  6  7  8  9 10 11 12 13 14]\n",
            " [15 16 17 18 19 20 21 22 23 24 25 26 27 28 29]]\n"
          ],
          "name": "stdout"
        }
      ]
    },
    {
      "cell_type": "code",
      "metadata": {
        "colab": {
          "base_uri": "https://localhost:8080/"
        },
        "id": "d9DycHMAplSD",
        "outputId": "3ad7929b-23fd-4972-ea5e-fdf8a15890d5"
      },
      "source": [
        "result = np.hsplit(a3,3)\n",
        "print(result[0])\n",
        "print(result[1])\n",
        "print(result[2])"
      ],
      "execution_count": 21,
      "outputs": [
        {
          "output_type": "stream",
          "text": [
            "[[ 0  1  2  3  4]\n",
            " [15 16 17 18 19]]\n",
            "[[ 5  6  7  8  9]\n",
            " [20 21 22 23 24]]\n",
            "[[10 11 12 13 14]\n",
            " [25 26 27 28 29]]\n"
          ],
          "name": "stdout"
        }
      ]
    },
    {
      "cell_type": "code",
      "metadata": {
        "colab": {
          "base_uri": "https://localhost:8080/"
        },
        "id": "K34qnBxEp5GZ",
        "outputId": "58aaf245-a3e0-438d-f516-08c94f1a4e5b"
      },
      "source": [
        "result1 = np.vsplit(a3,2)\n",
        "print(result1[0])\n",
        "print(result1[1])"
      ],
      "execution_count": 24,
      "outputs": [
        {
          "output_type": "stream",
          "text": [
            "[[ 0  1  2  3  4  5  6  7  8  9 10 11 12 13 14]]\n",
            "[[15 16 17 18 19 20 21 22 23 24 25 26 27 28 29]]\n"
          ],
          "name": "stdout"
        }
      ]
    },
    {
      "cell_type": "code",
      "metadata": {
        "colab": {
          "base_uri": "https://localhost:8080/"
        },
        "id": "OKyXTT28rZ-8",
        "outputId": "9370d48f-550a-45f6-af4b-3c465c177b18"
      },
      "source": [
        "a4=np.arange(12).reshape(3,4)\n",
        "print(a4)\n",
        "print(\"*************\")\n",
        "b = a4 > 5\n",
        "print(b)\n",
        "print(\"*************\")\n",
        "print(a4[b])\n",
        "print(\"*************\")\n",
        "a4[b]=-1\n",
        "print(a4)"
      ],
      "execution_count": 27,
      "outputs": [
        {
          "output_type": "stream",
          "text": [
            "[[ 0  1  2  3]\n",
            " [ 4  5  6  7]\n",
            " [ 8  9 10 11]]\n",
            "*************\n",
            "[[False False False False]\n",
            " [False False  True  True]\n",
            " [ True  True  True  True]]\n",
            "*************\n",
            "[ 6  7  8  9 10 11]\n",
            "*************\n",
            "[[ 0  1  2  3]\n",
            " [ 4  5 -1 -1]\n",
            " [-1 -1 -1 -1]]\n"
          ],
          "name": "stdout"
        }
      ]
    }
  ]
}