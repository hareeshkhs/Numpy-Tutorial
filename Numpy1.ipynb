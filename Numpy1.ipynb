{
  "nbformat": 4,
  "nbformat_minor": 0,
  "metadata": {
    "colab": {
      "name": "Numpy1.ipynb",
      "provenance": [],
      "collapsed_sections": [],
      "authorship_tag": "ABX9TyM+GbmW0mIFSemGef/FMRD4",
      "include_colab_link": true
    },
    "kernelspec": {
      "name": "python3",
      "display_name": "Python 3"
    },
    "language_info": {
      "name": "python"
    }
  },
  "cells": [
    {
      "cell_type": "markdown",
      "metadata": {
        "id": "view-in-github",
        "colab_type": "text"
      },
      "source": [
        "<a href=\"https://colab.research.google.com/github/hareeshkhs/Numpy-Tutorial/blob/main/Numpy1.ipynb\" target=\"_parent\"><img src=\"https://colab.research.google.com/assets/colab-badge.svg\" alt=\"Open In Colab\"/></a>"
      ]
    },
    {
      "cell_type": "markdown",
      "metadata": {
        "id": "Pn0Y-4edMDUd"
      },
      "source": [
        "# Numpy Introduction with Basic array operations:\n",
        "**Numpy Setup:**\n",
        "NumPy doesn't come bundled with Python. We have to install it using the python pip installer. Execute the following command.\n",
        "\n",
        "`$ pip install numpy`"
      ]
    },
    {
      "cell_type": "markdown",
      "metadata": {
        "id": "7Uh0jkqAS-3M"
      },
      "source": [
        "Importing numpy Module as np"
      ]
    },
    {
      "cell_type": "code",
      "metadata": {
        "id": "I329r560MGSg"
      },
      "source": [
        "import numpy as np"
      ],
      "execution_count": 2,
      "outputs": []
    },
    {
      "cell_type": "markdown",
      "metadata": {
        "id": "u68_0DaDNNfs"
      },
      "source": [
        "**NumPy Ndarray:**\n",
        "Ndarray is the n-dimensional array object defined in the numpy which stores the collection of the similar type of elements. In other words, we can define a ndarray as the collection of the data type (dtype) objects.\n",
        "\n",
        "The ndarray object can be created by using the array routine of the numpy module.\n",
        "\n",
        "The syntax:\n",
        "\n",
        "`numpy.array(object, dtype = None, copy = True, order = None, subok = False, ndmin = 0)`  \n",
        "Example:"
      ]
    },
    {
      "cell_type": "code",
      "metadata": {
        "colab": {
          "base_uri": "https://localhost:8080/"
        },
        "id": "FRlilnScNONT",
        "outputId": "98e4fd39-1315-4011-8567-5218a95987a7"
      },
      "source": [
        "np.array"
      ],
      "execution_count": 3,
      "outputs": [
        {
          "output_type": "execute_result",
          "data": {
            "text/plain": [
              "<function numpy.array>"
            ]
          },
          "metadata": {
            "tags": []
          },
          "execution_count": 3
        }
      ]
    },
    {
      "cell_type": "code",
      "metadata": {
        "colab": {
          "base_uri": "https://localhost:8080/"
        },
        "id": "exEMVZ55UI1I",
        "outputId": "ab998102-a3f7-4b0e-83e0-da918cc0209c"
      },
      "source": [
        "#To create an numpy array using list\n",
        "arr1=np.array([1, 2, 3])\n",
        "print(arr1)\n",
        "#To create a multi-dimensional array\n",
        "arr2=np.array([[1,2],[3,4],[5,6]])\n",
        "print(arr2)"
      ],
      "execution_count": 4,
      "outputs": [
        {
          "output_type": "stream",
          "text": [
            "[1 2 3]\n",
            "[[1 2]\n",
            " [3 4]\n",
            " [5 6]]\n"
          ],
          "name": "stdout"
        }
      ]
    },
    {
      "cell_type": "markdown",
      "metadata": {
        "id": "H_WBDLiyQSo1"
      },
      "source": [
        "To change the data type of the array elements, mention the name of the data type along with the collection."
      ]
    },
    {
      "cell_type": "code",
      "metadata": {
        "colab": {
          "base_uri": "https://localhost:8080/"
        },
        "id": "8f_SGhp7PeaP",
        "outputId": "9ef1685d-d8e4-4e2b-899f-8861c8c40f1e"
      },
      "source": [
        "arr3=np.array([1, 2, 3], dtype=float)\n",
        "print(arr3)\n",
        "arr3=np.array([1, 2, 3, 4], dtype=complex)\n",
        "print(arr3)"
      ],
      "execution_count": 5,
      "outputs": [
        {
          "output_type": "stream",
          "text": [
            "[1. 2. 3.]\n",
            "[1.+0.j 2.+0.j 3.+0.j 4.+0.j]\n"
          ],
          "name": "stdout"
        }
      ]
    },
    {
      "cell_type": "markdown",
      "metadata": {
        "id": "76mZMfUnW9YY"
      },
      "source": [
        "**Finding the dimensions of the Array**\n",
        "\n",
        "The ndim function can be used to find the dimensions of the array."
      ]
    },
    {
      "cell_type": "code",
      "metadata": {
        "colab": {
          "base_uri": "https://localhost:8080/"
        },
        "id": "lhjeUDJnWrfg",
        "outputId": "1e3f29d6-26d0-4016-be88-acc3cbdc9336"
      },
      "source": [
        "print(arr1.ndim)\n",
        "print(arr2.ndim)\n",
        "print(arr3.ndim)"
      ],
      "execution_count": 6,
      "outputs": [
        {
          "output_type": "stream",
          "text": [
            "1\n",
            "2\n",
            "1\n"
          ],
          "name": "stdout"
        }
      ]
    },
    {
      "cell_type": "markdown",
      "metadata": {
        "id": "pkqf3uFwXg_3"
      },
      "source": [
        "**Finding the size of each array element**\n",
        "\n",
        "The itemsize function is used to get the size of each array item. It returns the number of bytes taken by each array element.\n",
        "\n",
        "Consider the following example."
      ]
    },
    {
      "cell_type": "code",
      "metadata": {
        "colab": {
          "base_uri": "https://localhost:8080/"
        },
        "id": "3JU4lEp1XPQh",
        "outputId": "4f7f874f-872d-4184-f355-5dfa217ac750"
      },
      "source": [
        "print(\"Each item contains in arr1:\",arr1.itemsize)\n",
        "print(\"Each item contains in arr3:\",arr3.itemsize)"
      ],
      "execution_count": 7,
      "outputs": [
        {
          "output_type": "stream",
          "text": [
            "Each item contains in arr1: 8\n",
            "Each item contains in arr3: 16\n"
          ],
          "name": "stdout"
        }
      ]
    },
    {
      "cell_type": "markdown",
      "metadata": {
        "id": "nhu7uDSkYIFP"
      },
      "source": [
        "**Finding the data type of each array item**\n",
        "\n",
        "To check the data type of each array item, the dtype function is used. Consider the following example to check the data type of the array items."
      ]
    },
    {
      "cell_type": "code",
      "metadata": {
        "colab": {
          "base_uri": "https://localhost:8080/"
        },
        "id": "S6fhegPWYBMW",
        "outputId": "1073c3f3-7882-4ce5-f4a8-76486fc5acbe"
      },
      "source": [
        "print(\"Each item is of the type in arr1:\",arr1.dtype)\n",
        "print(\"Each item is of the type in arr3:\",arr3.dtype)"
      ],
      "execution_count": 8,
      "outputs": [
        {
          "output_type": "stream",
          "text": [
            "Each item is of the type in arr1: int64\n",
            "Each item is of the type in arr3: complex128\n"
          ],
          "name": "stdout"
        }
      ]
    },
    {
      "cell_type": "markdown",
      "metadata": {
        "id": "9bmBUql_Yeio"
      },
      "source": [
        "**Finding the shape and size of the array**\n",
        "\n",
        "To get the shape and size of the array, the size and shape function associated with the numpy array is used."
      ]
    },
    {
      "cell_type": "code",
      "metadata": {
        "colab": {
          "base_uri": "https://localhost:8080/"
        },
        "id": "OM3N0s-iYb-G",
        "outputId": "fa25e086-c475-4809-af0b-eee5a57cd92b"
      },
      "source": [
        "#arr1=np.array([1, 2, 3])\n",
        "#arr2=np.array([[1,2],[3,4],[4,5]])\n",
        "\n",
        "print(\"Array Size of arr1:\",arr1.size)  \n",
        "print(\"Shape of arr1:\",arr1.shape)\n",
        "\n",
        "print(\"Array Size of arr2:\",arr2.size)  \n",
        "print(\"Shape of arr2:\",arr2.shape)"
      ],
      "execution_count": 9,
      "outputs": [
        {
          "output_type": "stream",
          "text": [
            "Array Size of arr1: 3\n",
            "Shape of arr1: (3,)\n",
            "Array Size of arr2: 6\n",
            "Shape of arr2: (3, 2)\n"
          ],
          "name": "stdout"
        }
      ]
    },
    {
      "cell_type": "markdown",
      "metadata": {
        "id": "3sdrGMZAZnZz"
      },
      "source": [
        "**NumPy.Zeros**\n",
        "\n",
        "This routine is used to create the numpy array with the specified shape where each numpy array item is initialized to 0.\n",
        "\n",
        "The syntax is given below.\n",
        "\n",
        "`numpy.zeros(shape, dtype = float, order = 'C') `\n",
        "\n",
        "It accepts the following parameters.\n",
        "\n",
        "Shape: The desired shape of the specified array.\n",
        "\n",
        "dtype: The data type of the array items. The default is the float.\n",
        "\n",
        "Order: The default order is the c-style row-major order. It can be set to F for FORTRAN-style column-major order."
      ]
    },
    {
      "cell_type": "code",
      "metadata": {
        "colab": {
          "base_uri": "https://localhost:8080/"
        },
        "id": "CxZ2Tz8vZklE",
        "outputId": "4b8e49cc-c2c1-489b-8b93-6c0d97881537"
      },
      "source": [
        "arrofzeros = np.zeros((3,2), dtype = int)  \n",
        "print(arrofzeros)"
      ],
      "execution_count": 10,
      "outputs": [
        {
          "output_type": "stream",
          "text": [
            "[[0 0]\n",
            " [0 0]\n",
            " [0 0]]\n"
          ],
          "name": "stdout"
        }
      ]
    },
    {
      "cell_type": "markdown",
      "metadata": {
        "id": "1r_hN6X1a1GF"
      },
      "source": [
        "**NumPy.ones**\n",
        "\n",
        "This routine is used to create the numpy array with the specified shape where each numpy array item is initialized to 1.\n",
        "\n",
        "The syntax to use this module is given below.\n",
        "\n",
        "`numpy.ones(shape, dtype = none, order = 'C')`"
      ]
    },
    {
      "cell_type": "code",
      "metadata": {
        "colab": {
          "base_uri": "https://localhost:8080/"
        },
        "id": "EB8axM1_azXb",
        "outputId": "889a876a-9dcf-439e-9058-7c5ddc7a1756"
      },
      "source": [
        "arrofones = np.ones((3,3), dtype = float)  \n",
        "print(arrofones)"
      ],
      "execution_count": 11,
      "outputs": [
        {
          "output_type": "stream",
          "text": [
            "[[1. 1. 1.]\n",
            " [1. 1. 1.]\n",
            " [1. 1. 1.]]\n"
          ],
          "name": "stdout"
        }
      ]
    },
    {
      "cell_type": "markdown",
      "metadata": {
        "id": "HmlNwfJ4bF_-"
      },
      "source": [
        "**Numpy.arrange**\n",
        "\n",
        "It creates an array by using the evenly spaced values over the given interval. The syntax to use the function is given below.\n",
        "\n",
        "`numpy.arrange(start, stop, step, dtype) `\n",
        "\n",
        "It accepts the following parameters.\n",
        "\n",
        "start: The starting of an interval. The default is 0.\n",
        "\n",
        "stop: represents the value at which the interval ends excluding this value.\n",
        "\n",
        "step: The number by which the interval values change.\n",
        "\n",
        "dtype: the data type of the numpy array items."
      ]
    },
    {
      "cell_type": "code",
      "metadata": {
        "colab": {
          "base_uri": "https://localhost:8080/"
        },
        "id": "iOx4wS8rbEDB",
        "outputId": "4a92abf4-a377-421f-e89b-dd8ccbb7e263"
      },
      "source": [
        "a1 = np.arange(0,10)  \n",
        "print(a1)\n",
        "a2 = np.arange(1,10,3,float)  \n",
        "print(a2)"
      ],
      "execution_count": 12,
      "outputs": [
        {
          "output_type": "stream",
          "text": [
            "[0 1 2 3 4 5 6 7 8 9]\n",
            "[1. 4. 7.]\n"
          ],
          "name": "stdout"
        }
      ]
    },
    {
      "cell_type": "markdown",
      "metadata": {
        "id": "IV2PKKwsfVBS"
      },
      "source": [
        "**NumPy.linspace**\n",
        "\n",
        "It is similar to the arrange function. However, it doesn?t allow us to specify the step size in the syntax.\n",
        "\n",
        "Instead of that, it only returns evenly separated values over a specified period. The system implicitly calculates the step size.\n",
        "\n",
        "The syntax is given below.\n",
        "\n",
        "`numpy.linspace(start, stop, num, endpoint, retstep, dtype)` "
      ]
    },
    {
      "cell_type": "code",
      "metadata": {
        "colab": {
          "base_uri": "https://localhost:8080/"
        },
        "id": "WjC0NpSkfTDF",
        "outputId": "9f31b778-92e2-4fd1-f78e-0739f7377521"
      },
      "source": [
        "a3 = np.linspace(10, 20, 5)  \n",
        "print(\"The array over the given range is \",a3)\n",
        "\n",
        "a4 = np.linspace(10, 20, 5, endpoint = False)  \n",
        "print(\"The array over the given range is \",a4)"
      ],
      "execution_count": 13,
      "outputs": [
        {
          "output_type": "stream",
          "text": [
            "The array over the given range is  [10.  12.5 15.  17.5 20. ]\n",
            "The array over the given range is  [10. 12. 14. 16. 18.]\n"
          ],
          "name": "stdout"
        }
      ]
    },
    {
      "cell_type": "markdown",
      "metadata": {
        "id": "6Z3DbeWTgm1X"
      },
      "source": [
        "**Reshaping the array objects**\n",
        "\n",
        "By the shape of the array, we mean the number of rows and columns of a multi-dimensional array. However, the numpy module provides us the way to reshape the array by changing the number of rows and columns of the multi-dimensional array.\n",
        "\n",
        "The reshape() function associated with the ndarray object is used to reshape the array. It accepts the two parameters indicating the row and columns of the new shape of the array.\n",
        "\n",
        "Let's reshape the array of shape(3X2).\n"
      ]
    },
    {
      "cell_type": "code",
      "metadata": {
        "id": "bjZwvXR5f-x_",
        "colab": {
          "base_uri": "https://localhost:8080/"
        },
        "outputId": "db9e5c7b-0fc5-4751-a289-599166e97929"
      },
      "source": [
        "print(arr2)  \n",
        "a5 = arr2.reshape(2,3)  \n",
        "print(\"printing the reshaped array(3X2)\")  \n",
        "print(a5)\n",
        "\n",
        "a6 = arr2.reshape(6,1)\n",
        "print(\"printing the reshaped array(6X1)\")\n",
        "print(a6)"
      ],
      "execution_count": 16,
      "outputs": [
        {
          "output_type": "stream",
          "text": [
            "[[1 2]\n",
            " [3 4]\n",
            " [5 6]]\n",
            "printing the reshaped array(3X2)\n",
            "[[1 2 3]\n",
            " [4 5 6]]\n",
            "printing the reshaped array(6X1)\n",
            "[[1]\n",
            " [2]\n",
            " [3]\n",
            " [4]\n",
            " [5]\n",
            " [6]]\n"
          ],
          "name": "stdout"
        }
      ]
    },
    {
      "cell_type": "markdown",
      "metadata": {
        "id": "dXTXz9211ExP"
      },
      "source": [
        "**numpy.ravel()**\n",
        "\n",
        "Syntax:\n",
        "\n",
        "`numpy.ravel(x, order='C')`\n",
        "\n",
        "This function returns a contiguous flatten array with the same data type as an input array and has shape equal to (x.size)."
      ]
    },
    {
      "cell_type": "code",
      "metadata": {
        "colab": {
          "base_uri": "https://localhost:8080/"
        },
        "id": "hl_MxKrHznAY",
        "outputId": "07b8b332-f75c-4f45-fb2d-e89f8814ef4f"
      },
      "source": [
        "x = np.array([[1, 3, 5], [7, 9, 11]])  \n",
        "y=np.ravel(x)  \n",
        "print(y)"
      ],
      "execution_count": 17,
      "outputs": [
        {
          "output_type": "stream",
          "text": [
            "[ 1  3  5  7  9 11]\n"
          ],
          "name": "stdout"
        }
      ]
    },
    {
      "cell_type": "markdown",
      "metadata": {
        "id": "kJ1y5jaJ2QjP"
      },
      "source": [
        "**Finding the maximum, minimum, and sum of the array elements**\n",
        "\n",
        "The NumPy provides the max(), min(), and sum() functions which are used to find the maximum, minimum, and sum of the array elements respectively.\n",
        "\n",
        "Consider the following example."
      ]
    },
    {
      "cell_type": "code",
      "metadata": {
        "colab": {
          "base_uri": "https://localhost:8080/"
        },
        "id": "dR6RCrrF2OK6",
        "outputId": "d8a49f8e-ad56-4e22-ae40-d2aa617e5f8e"
      },
      "source": [
        "a7 = np.array([[1,2,3],[10,15,4]])  \n",
        "print(\"The array:\\n\",a7)  \n",
        "print(\"The maximum element:\",a7.max())  \n",
        "print(\"The minimum element:\",a7.min())  \n",
        "print(\"The sum of the elements:\",a7.sum())"
      ],
      "execution_count": 20,
      "outputs": [
        {
          "output_type": "stream",
          "text": [
            "The array:\n",
            " [[ 1  2  3]\n",
            " [10 15  4]]\n",
            "The maximum element: 15\n",
            "The minimum element: 1\n",
            "The sum of the elements: 35\n"
          ],
          "name": "stdout"
        }
      ]
    },
    {
      "cell_type": "markdown",
      "metadata": {
        "id": "k43boOxe3WcD"
      },
      "source": [
        "**NumPy Array Axis**\n",
        "\n",
        "A NumPy multi-dimensional array is represented by the axis where axis-0 represents the columns and axis-1 represents the rows. We can mention the axis to perform row-level or column-level calculations like the addition of row or column elements.\n",
        "\n",
        "![numpy-array-axis.png](data:image/png;base64,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)\n",
        "\n",
        "To calculate the maximum element among each column, the minimum element among each row, and the addition of all the row elements, consider the following example."
      ]
    },
    {
      "cell_type": "code",
      "metadata": {
        "colab": {
          "base_uri": "https://localhost:8080/"
        },
        "id": "iu7ux5YU3K_G",
        "outputId": "e6db19c9-04c8-4ef6-b83e-9ce759b915f8"
      },
      "source": [
        "#a7 = np.array([[1,2,3],[10,15,4]])\n",
        "\n",
        "print(\"The array:\\n\",a7)\n",
        "print(\"The maximum elements of columns:\",a7.max(axis = 0))   \n",
        "print(\"The minimum element of rows\",a7.min(axis = 1))  \n",
        "print(\"The sum of all rows\",a7.sum(axis = 1))"
      ],
      "execution_count": 22,
      "outputs": [
        {
          "output_type": "stream",
          "text": [
            "The array:\n",
            " [[ 1  2  3]\n",
            " [10 15  4]]\n",
            "The maximum elements of columns: [10 15  4]\n",
            "The minimum element of rows [1 4]\n",
            "The sum of all rows [ 6 29]\n"
          ],
          "name": "stdout"
        }
      ]
    },
    {
      "cell_type": "markdown",
      "metadata": {
        "id": "WxWyyX4k4Ucd"
      },
      "source": [
        "**Finding square root and standard deviation**\n",
        "\n",
        "The sqrt() and std() functions associated with the numpy array are used to find the square root and standard deviation of the array elements respectively.\n",
        "\n",
        "Standard deviation means how much each element of the array varies from the mean value of the numpy array.\n",
        "\n",
        "Consider the following example."
      ]
    },
    {
      "cell_type": "code",
      "metadata": {
        "colab": {
          "base_uri": "https://localhost:8080/"
        },
        "id": "eHhSUbrR4RIY",
        "outputId": "6e72c98a-7aa3-4685-eed2-c015b2f59597"
      },
      "source": [
        "#a7 = np.array([[1,2,3],[10,15,4]])\n",
        "\n",
        "print(np.sqrt(a7))\n",
        "print(\"*********************\") \n",
        "print(np.std(a7))"
      ],
      "execution_count": 24,
      "outputs": [
        {
          "output_type": "stream",
          "text": [
            "[[1.         1.41421356 1.73205081]\n",
            " [3.16227766 3.87298335 2.        ]]\n",
            "*********************\n",
            "5.013869652163774\n"
          ],
          "name": "stdout"
        }
      ]
    },
    {
      "cell_type": "markdown",
      "metadata": {
        "id": "HrWUnIkt4xXO"
      },
      "source": [
        "**Arithmetic operations on the array**\n",
        "\n",
        "The numpy module allows us to perform the arithmetic operations on multi-dimensional arrays directly.\n",
        "\n",
        "In the following example, the arithmetic operations are performed on the two multi-dimensional arrays a and b."
      ]
    },
    {
      "cell_type": "code",
      "metadata": {
        "colab": {
          "base_uri": "https://localhost:8080/"
        },
        "id": "02FMgTcg4veU",
        "outputId": "9f10aff1-e8b8-4797-c728-bdf2a3e1fbd7"
      },
      "source": [
        "a = np.array([[1,2,30],[10,15,4]])  \n",
        "b = np.array([[1,2,3],[12, 19, 29]])  \n",
        "print(\"Sum of array a and b\\n\",a+b)  \n",
        "print(\"Product of array a and b\\n\",a*b)  \n",
        "print(\"Division of array a and b\\n\",a/b)  "
      ],
      "execution_count": 25,
      "outputs": [
        {
          "output_type": "stream",
          "text": [
            "Sum of array a and b\n",
            " [[ 2  4 33]\n",
            " [22 34 33]]\n",
            "Product of array a and b\n",
            " [[  1   4  90]\n",
            " [120 285 116]]\n",
            "Division of array a and b\n",
            " [[ 1.          1.         10.        ]\n",
            " [ 0.83333333  0.78947368  0.13793103]]\n"
          ],
          "name": "stdout"
        }
      ]
    },
    {
      "cell_type": "markdown",
      "metadata": {
        "id": "DJ7cqDKV5-g7"
      },
      "source": [
        "**NumPy Matrix Multiplication in Python**\n",
        "\n",
        "Multiplication of matrix is an operation which produces a single matrix by taking two matrices as input and multiplying rows of the first matrix to the column of the second matrix. Note that we have to ensure that the number of rows in the first matrix should be equal to the number of columns in the second matrix.\n",
        "\n",
        "**Dot product**\n"
      ]
    },
    {
      "cell_type": "code",
      "metadata": {
        "colab": {
          "base_uri": "https://localhost:8080/"
        },
        "id": "g7I5hNjD5UiK",
        "outputId": "7044b01a-1827-4c37-96d6-b2da30405d07"
      },
      "source": [
        "array1=np.array([[1,2,3],[4,5,6],[7,8,9]],ndmin=3)  \n",
        "array2=np.array([[9,8,7],[6,5,4],[3,2,1]],ndmin=3)  \n",
        "result=np.dot(array1,array2)  \n",
        "print(result)"
      ],
      "execution_count": 26,
      "outputs": [
        {
          "output_type": "stream",
          "text": [
            "[[[[ 30  24  18]]\n",
            "\n",
            "  [[ 84  69  54]]\n",
            "\n",
            "  [[138 114  90]]]]\n"
          ],
          "name": "stdout"
        }
      ]
    }
  ]
}